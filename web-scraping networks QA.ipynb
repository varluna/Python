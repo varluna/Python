{
 "cells": [
  {
   "cell_type": "code",
   "execution_count": 3,
   "id": "97017b17",
   "metadata": {},
   "outputs": [],
   "source": [
    "from bs4 import BeautifulSoup \n",
    "import requests"
   ]
  },
  {
   "cell_type": "code",
   "execution_count": 4,
   "id": "6b809583",
   "metadata": {},
   "outputs": [],
   "source": [
    "#find the questions in the website \n",
    "def scrapQuestions(url):\n",
    "    page = requests.get(url)\n",
    "    soup = BeautifulSoup(page.text, 'html')\n",
    "    \n",
    "    texts = soup.find_all('div','text-left')\n",
    "    questions = [question.text.strip()for question in texts]\n",
    "    return questions\n",
    "#collect the right answers\n",
    "def scrapAnswers(url):\n",
    "    form_check_elements = soup.find_all('div', class_='form-check')\n",
    "\n",
    "        # Initialize a dictionary to store answers\n",
    "    answers = {}\n",
    "\n",
    "    for form_check in form_check_elements:\n",
    "        # Find the input element with data-ans=\"1\" -> true\n",
    "        input_element = form_check.find('input', {'data-ans': '1'})\n",
    "        if input_element:\n",
    "                # Extract the answer and the associated question\n",
    "                ans = form_check.find('p').text.strip()\n",
    "\n",
    "                answers[ans] = \"1\"  \n",
    "    answers"
   ]
  },
  {
   "cell_type": "code",
   "execution_count": 11,
   "id": "35dce77a",
   "metadata": {},
   "outputs": [
    {
     "data": {
      "text/plain": [
       "['What do we mean when we say “HTTP is stateless”? In answering this question, assume that cookies are not used.\\xa0 Check all answers that apply.',\n",
       " 'What is an HTTP cookie used for?',\n",
       " 'What is the purpose of the HTTP GET message?',\n",
       " 'What is the purpose of the conditional HTTP GET request message?',\n",
       " 'Suppose a client is sending an HTTP GET request message to a web server, gaia.cs.umass.edu. Suppose the client-to-server HTTP GET message is the following:GET /kurose_ross_sandbox/interactive/quotation2.htm HTTP/1.1Host: gaia.cs.umass.eduAccept: text/plain, text/html, text/xml, image/jpeg, image/gif, audio/mpeg, audio/mp4, video/wmv, video/mp4,Accept-Language: en-us, en-gb;q=0.1, en;q=0.7, fr, fr-ch, da, de, fiIf-Modified-Since: Wed, 09 Sep 2020 16:06:01 -0700User Agent: Mozilla/5.0 (Windows NT 6.1; WOW64) AppleWebKit/535.11 (KHTML, like Gecko) Chrome/17.0.963.56 Safari/535.11What version of HTTP is the client using?[Note: you can find additional questions similar to this here.]',\n",
       " 'Again, suppose a client is sending an HTTP GET request message to a web server, gaia.cs.umass.edu.\\xa0 The client-to-server HTTP GET message is the following (same as in previous problem):GET /kurose_ross_sandbox/interactive/quotation2.htm HTTP/1.1Host: gaia.cs.umass.eduAccept: text/plain, text/html, text/xml, image/jpeg, image/gif, audio/mpeg, audio/mp4, video/wmv, video/mp4,Accept-Language: en-us, en-gb;q=0.1, en;q=0.7, fr, fr-ch, da, de, fiIf-Modified-Since: Wed, 09 Sep 2020 16:06:01 -0700User Agent: Mozilla/5.0 (Windows NT 6.1; WOW64) AppleWebKit/535.11 (KHTML, like Gecko) Chrome/17.0.963.56 Safari/535.11What is the language in which the client would least prefer to get a response?\\xa0 [You may have to search around the Web a bit to answer this.][Note: you can find additional questions similar to this here.]',\n",
       " 'Again, suppose a client is sending an HTTP GET request message to a web server, gaia.cs.umass.edu. Suppose the client-to-server HTTP GET message is the following (same as in previous problem):GET /kurose_ross_sandbox/interactive/quotation2.htm HTTP/1.1Host: gaia.cs.umass.eduAccept: text/plain, text/html, text/xml, image/jpeg, image/gif, audio/mpeg, audio/mp4, video/wmv, video/mp4,Accept-Language: en-us, en-gb;q=0.1, en;q=0.7, fr, fr-ch, da, de, fiIf-Modified-Since: Wed, 09 Sep 2020 16:06:01 -0700User Agent: Mozilla/5.0 (Windows NT 6.1; WOW64) AppleWebKit/535.11 (KHTML, like Gecko) Chrome/17.0.963.56 Safari/535.11Does the client have a cached copy of the object being requested?[Note: you can find additional questions similar to this here.]',\n",
       " 'Suppose now the server sends the following HTTP response message the client: HTTP/1.0 200 OKDate: Wed, 09 Sep 2020 23:46:21 +0000Server: Apache/2.2.3 (CentOS)Last-Modified: Wed, 09 Sep 2020 23:51:41 +0000ETag:17dc6-a5c-bf716880.Content-Length: 418Connection: CloseContent-type: image/html Will the web server close the TCP connection after sending this message?[Note: you can find more questions like this one here.]',\n",
       " 'Which of the following are advantages of using a web cache? Sselect one or more answers.',\n",
       " 'Which of the following are changes between HTTP 1.1 and HTTP/2? Note: select one or more answers.',\n",
       " 'Which of the following pieces of information will appear in a server’s application-level HTTP reply message? (Check all that apply.)',\n",
       " 'What is the purpose of the If-Modified-Since field in a HTTP GET request message',\n",
       " 'What is the purpose of a cookie value in the HTTP GET request?',\n",
       " 'Suppose a client is sending an HTTP GET message to a web server, gaia.cs.umass.edu. Suppose the client-to-server HTTP GET message is the following:GET /kurose_ross_sandbox/interactive/quotation2.htm HTTP/1.1Host: gaia.cs.umass.eduAccept: text/plain, text/html, text/xml, image/jpeg, image/gif, audio/mpeg, audio/mp4, video/wmv, video/mp4,Accept-Language: en-us, en-gb;q=0.1, en;q=0.7, fr, fr-ch, da, de, fiIf-Modified-Since: Wed, 09 Sep 2020 16:06:01 -0700User Agent: Mozilla/5.0 (Windows NT 6.1; WOW64) AppleWebKit/535.11 (KHTML, like Gecko) Chrome/17.0.963.56 Safari/535.11Does the client have a cached copy of the object being requested?',\n",
       " 'Suppose an HTTP server sends the following HTTP response message a client: HTTP/1.0 200 OKDate: Wed, 09 Sep 2020 23:46:21 +0000Server: Apache/2.2.3 (CentOS)Last-Modified: Wed, 09 Sep 2020 23:51:41 +0000ETag:17dc6-a5c-bf716880.Content-Length: 418Connection: CloseContent-type: image/html Will the web server close the TCP connection after sending this message?']"
      ]
     },
     "execution_count": 11,
     "metadata": {},
     "output_type": "execute_result"
    }
   ],
   "source": [
    "# to test our function\n",
    "c2s2 = scrapQuestions(\"https://gaia.cs.umass.edu/kurose_ross/knowledgechecks/problem.php?c=2&s=2\") #c for chapter s for section\n",
    "c2s2"
   ]
  },
  {
   "cell_type": "code",
   "execution_count": 9,
   "id": "79b561fb",
   "metadata": {},
   "outputs": [],
   "source": [
    "#it's working! lets import the questions to csv file using pandas\n",
    "import pandas as pd"
   ]
  },
  {
   "cell_type": "code",
   "execution_count": 10,
   "id": "6d7123b9",
   "metadata": {},
   "outputs": [
    {
     "data": {
      "text/html": [
       "<div>\n",
       "<style scoped>\n",
       "    .dataframe tbody tr th:only-of-type {\n",
       "        vertical-align: middle;\n",
       "    }\n",
       "\n",
       "    .dataframe tbody tr th {\n",
       "        vertical-align: top;\n",
       "    }\n",
       "\n",
       "    .dataframe thead th {\n",
       "        text-align: right;\n",
       "    }\n",
       "</style>\n",
       "<table border=\"1\" class=\"dataframe\">\n",
       "  <thead>\n",
       "    <tr style=\"text-align: right;\">\n",
       "      <th></th>\n",
       "      <th>AllQuestions</th>\n",
       "    </tr>\n",
       "  </thead>\n",
       "  <tbody>\n",
       "    <tr>\n",
       "      <th>0</th>\n",
       "      <td>What do we mean when we say “HTTP is stateless...</td>\n",
       "    </tr>\n",
       "    <tr>\n",
       "      <th>1</th>\n",
       "      <td>What is an HTTP cookie used for?</td>\n",
       "    </tr>\n",
       "    <tr>\n",
       "      <th>2</th>\n",
       "      <td>What is the purpose of the HTTP GET message?</td>\n",
       "    </tr>\n",
       "    <tr>\n",
       "      <th>3</th>\n",
       "      <td>What is the purpose of the conditional HTTP GE...</td>\n",
       "    </tr>\n",
       "    <tr>\n",
       "      <th>4</th>\n",
       "      <td>Suppose a client is sending an HTTP GET reques...</td>\n",
       "    </tr>\n",
       "    <tr>\n",
       "      <th>5</th>\n",
       "      <td>Again, suppose a client is sending an HTTP GET...</td>\n",
       "    </tr>\n",
       "    <tr>\n",
       "      <th>6</th>\n",
       "      <td>Again, suppose a client is sending an HTTP GET...</td>\n",
       "    </tr>\n",
       "    <tr>\n",
       "      <th>7</th>\n",
       "      <td>Suppose now the server sends the following HTT...</td>\n",
       "    </tr>\n",
       "    <tr>\n",
       "      <th>8</th>\n",
       "      <td>Which of the following are advantages of using...</td>\n",
       "    </tr>\n",
       "    <tr>\n",
       "      <th>9</th>\n",
       "      <td>Which of the following are changes between HTT...</td>\n",
       "    </tr>\n",
       "    <tr>\n",
       "      <th>10</th>\n",
       "      <td>Which of the following pieces of information w...</td>\n",
       "    </tr>\n",
       "    <tr>\n",
       "      <th>11</th>\n",
       "      <td>What is the purpose of the If-Modified-Since f...</td>\n",
       "    </tr>\n",
       "    <tr>\n",
       "      <th>12</th>\n",
       "      <td>What is the purpose of a cookie value in the H...</td>\n",
       "    </tr>\n",
       "    <tr>\n",
       "      <th>13</th>\n",
       "      <td>Suppose a client is sending an HTTP GET messag...</td>\n",
       "    </tr>\n",
       "    <tr>\n",
       "      <th>14</th>\n",
       "      <td>Suppose an HTTP server sends the following HTT...</td>\n",
       "    </tr>\n",
       "  </tbody>\n",
       "</table>\n",
       "</div>"
      ],
      "text/plain": [
       "                                         AllQuestions\n",
       "0   What do we mean when we say “HTTP is stateless...\n",
       "1                    What is an HTTP cookie used for?\n",
       "2        What is the purpose of the HTTP GET message?\n",
       "3   What is the purpose of the conditional HTTP GE...\n",
       "4   Suppose a client is sending an HTTP GET reques...\n",
       "5   Again, suppose a client is sending an HTTP GET...\n",
       "6   Again, suppose a client is sending an HTTP GET...\n",
       "7   Suppose now the server sends the following HTT...\n",
       "8   Which of the following are advantages of using...\n",
       "9   Which of the following are changes between HTT...\n",
       "10  Which of the following pieces of information w...\n",
       "11  What is the purpose of the If-Modified-Since f...\n",
       "12  What is the purpose of a cookie value in the H...\n",
       "13  Suppose a client is sending an HTTP GET messag...\n",
       "14  Suppose an HTTP server sends the following HTT..."
      ]
     },
     "execution_count": 10,
     "metadata": {},
     "output_type": "execute_result"
    }
   ],
   "source": [
    "df = pd.DataFrame({\"AllQuestions\": c2s2})\n",
    "df"
   ]
  },
  {
   "cell_type": "code",
   "execution_count": 146,
   "id": "02bbc2b8",
   "metadata": {},
   "outputs": [],
   "source": [
    "df.to_csv(r'C:\\Users\\coder\\OneDrive\\Desktop\\chapter5.csv', index = False)"
   ]
  },
  {
   "cell_type": "code",
   "execution_count": null,
   "id": "46574cc6",
   "metadata": {},
   "outputs": [],
   "source": [
    "# now I can review the questions faster from the file python created for me"
   ]
  }
 ],
 "metadata": {
  "kernelspec": {
   "display_name": "Python 3 (ipykernel)",
   "language": "python",
   "name": "python3"
  },
  "language_info": {
   "codemirror_mode": {
    "name": "ipython",
    "version": 3
   },
   "file_extension": ".py",
   "mimetype": "text/x-python",
   "name": "python",
   "nbconvert_exporter": "python",
   "pygments_lexer": "ipython3",
   "version": "3.11.5"
  }
 },
 "nbformat": 4,
 "nbformat_minor": 5
}
